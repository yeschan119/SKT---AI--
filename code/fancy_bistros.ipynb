{
 "cells": [
  {
   "cell_type": "code",
   "execution_count": 4,
   "metadata": {},
   "outputs": [
    {
     "name": "stdout",
     "output_type": "stream",
     "text": [
      "맛집 of 맛집: {'우래옥 본점': '서울 중구 주교동 118-1'}\n",
      "오늘 추천하는 집은: {'사랑방칼국수': '서울 중구 충무로3가 23-1'}\n",
      "['우래옥 본점', '마복림떡볶이', '원조남산왕돈까스']\n"
     ]
    }
   ],
   "source": [
    "#역마다 100개 이상의 맛집을 골라서 쉰위를 매긴다\n",
    "#그 중에서 1번을 최고 맛집으로 추천\n",
    "#랜덤으로 하나를 골라서 추천\n",
    "#좋아요 순위가 가장 놓은 5개를 보여줌\n",
    "#맛집을 랜덤으로 알려주기 위해 random함수 사용\n",
    "import pandas as pd\n",
    "import random\n",
    "\n",
    "bistro = pd.read_excel('https://storage.googleapis.com/subwaymate/fancy_restaurants.xls')\n",
    "station = '명동'\n",
    "best_bistro = {} # 가장 좋아요 회수가 많은 식당\n",
    "random_bistro = {} #구역 맛집 중에서 랜덤으로 정하여 알려주는 변수\n",
    "fancy_bistros = []  #전철역 근처 맛집을 담는 리스트\n",
    "return_bistros = {} # to 건우\n",
    "#데이터 전처리\n",
    "#전체 데이터에서 역 근처 맛집만 골라서 그 인덱스를 리스트에 담기\n",
    "for i in range(len(bistro)):\n",
    "    if bistro['역명'][i] == station:\n",
    "        if bistro['순위'][i] == 1:\n",
    "            best_bistro[bistro['맛집명'][i]] = bistro['주소'][i]\n",
    "        if bistro['순위'][i] <= 3: #to 건우\n",
    "            return_bistros[bistro['맛집명'][i]] = bistro['주소'][i] #to 건우\n",
    "        fancy_bistros.append(i)\n",
    "\n",
    "def get_random_bistro():\n",
    "    #전체 리스트에서 랜덤으로 하나를 선택\n",
    "    random_index = random.choice(fancy_bistros)\n",
    "    random_bistro[bistro['맛집명'][random_index]] = bistro['주소'][random_index]\n",
    "#에러 체크\n",
    "if len(fancy_bistros) == 0:\n",
    "    print(\"이 역 주변에는 맞집이 없습니다.\")\n",
    "else:\n",
    "    #만집 리스트에서 얻은 인덱스를 이용하여 raw data에서 역 근처 맛집을 저장\n",
    "    fancy_bistro_info = bistro[fancy_bistros[0]:fancy_bistros[len(fancy_bistros)-1]]\n",
    "    #맛집 of 맛집과 겹치는 것을 피하기 위해\n",
    "    while True:\n",
    "        get_random_bistro()\n",
    "        if random_bistro.keys() != best_bistro.keys():\n",
    "            break\n",
    "        else:\n",
    "            random_bistro.clear()\n",
    "    print(\"맛집 of 맛집:\", best_bistro)\n",
    "    print(\"오늘 추천하는 집은:\",random_bistro)\n",
    "    \n",
    "bistro_name = list(return_bistros.keys())\n",
    "bistro_address = list(return_bistros.values())\n",
    "\n",
    "\n"
   ]
  },
  {
   "cell_type": "code",
   "execution_count": null,
   "metadata": {},
   "outputs": [],
   "source": []
  }
 ],
 "metadata": {
  "kernelspec": {
   "display_name": "Python 3",
   "language": "python",
   "name": "python3"
  },
  "language_info": {
   "codemirror_mode": {
    "name": "ipython",
    "version": 3
   },
   "file_extension": ".py",
   "mimetype": "text/x-python",
   "name": "python",
   "nbconvert_exporter": "python",
   "pygments_lexer": "ipython3",
   "version": "3.7.4"
  }
 },
 "nbformat": 4,
 "nbformat_minor": 2
}
