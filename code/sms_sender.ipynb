{
 "cells": [
  {
   "cell_type": "code",
   "execution_count": 1,
   "metadata": {},
   "outputs": [
    {
     "data": {
      "text/plain": [
       "<Twilio.Api.V2010.MessageInstance account_sid=AC8def0b9b885cbd7fdd0a34f950567a4c sid=SM11c4f455f461419e8ed6452f888e0c0a>"
      ]
     },
     "execution_count": 1,
     "metadata": {},
     "output_type": "execute_result"
    }
   ],
   "source": [
    "from twilio.rest import Client\n",
    "\n",
    "TWILIO_ACCOUNT_SID = 'AC8def0b9b885cbd7fdd0a34f950567a4c'\n",
    "TWILIO_AUTH_TOKEN = '223b49fcc6f10bae37bf9881117dbd55'\n",
    "client = Client(TWILIO_ACCOUNT_SID, TWILIO_AUTH_TOKEN)\n",
    "\n",
    "client.messages.create(\n",
    "    #여기에 번호 입력\n",
    "    to=\"+8201028045097\",\n",
    "    from_=\"+18329907655\",  #twilio에서 발급받은 미국 전화번호(don't touch)\n",
    "    body=\"우리는 subwayMate 팀입니다\"\n",
    ")\n"
   ]
  },
  {
   "cell_type": "code",
   "execution_count": null,
   "metadata": {},
   "outputs": [],
   "source": []
  }
 ],
 "metadata": {
  "kernelspec": {
   "display_name": "Python 3",
   "language": "python",
   "name": "python3"
  },
  "language_info": {
   "codemirror_mode": {
    "name": "ipython",
    "version": 3
   },
   "file_extension": ".py",
   "mimetype": "text/x-python",
   "name": "python",
   "nbconvert_exporter": "python",
   "pygments_lexer": "ipython3",
   "version": "3.7.4"
  }
 },
 "nbformat": 4,
 "nbformat_minor": 2
}
